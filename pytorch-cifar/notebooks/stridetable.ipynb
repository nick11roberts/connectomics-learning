{
 "cells": [
  {
   "cell_type": "code",
   "execution_count": 2,
   "metadata": {},
   "outputs": [],
   "source": [
    "import numpy as np"
   ]
  },
  {
   "cell_type": "code",
   "execution_count": 3,
   "metadata": {},
   "outputs": [
    {
     "name": "stdout",
     "output_type": "stream",
     "text": [
      "[1. 1. 2. 1. 2. 1. 2. 1.]\n"
     ]
    },
    {
     "data": {
      "text/plain": [
       "array([[1., 1., 2., 2., 4., 4., 8., 8.],\n",
       "       [1., 1., 2., 2., 4., 4., 8., 8.],\n",
       "       [2., 2., 2., 2., 4., 4., 8., 8.],\n",
       "       [2., 2., 2., 1., 2., 2., 4., 4.],\n",
       "       [4., 4., 4., 2., 2., 2., 4., 4.],\n",
       "       [4., 4., 4., 2., 2., 1., 2., 2.],\n",
       "       [8., 8., 8., 4., 4., 2., 2., 2.],\n",
       "       [8., 8., 8., 4., 4., 2., 2., 1.]])"
      ]
     },
     "execution_count": 3,
     "metadata": {},
     "output_type": "execute_result"
    }
   ],
   "source": [
    "def gen_stride_table(num_blocks, strides):\n",
    "    \n",
    "    n = np.sum(num_blocks)\n",
    "    dp = np.ones([n, n])\n",
    "    strides_init = np.ones(n)\n",
    "    \n",
    "    # Populate initial values (first col, first row)\n",
    "    for nb, i in zip(num_blocks, np.arange(len(num_blocks))):\n",
    "        strides_init[sum(num_blocks[:i])] = strides[i]\n",
    "        \n",
    "    print(strides_init)\n",
    "        \n",
    "    # Dynamically compute strides between various layers\n",
    "    for i in range(n):\n",
    "        dp[i,i] = strides_init[i]\n",
    "        for j in range(i):\n",
    "            dp[i,j] = np.prod(strides_init[j:i+1])\n",
    "            dp[j,i] = dp[i,j]\n",
    "    \n",
    "    return dp\n",
    "\n",
    "s_table = gen_stride_table(num_blocks=[2,2,2,2], strides=[1,2,2,2])\n",
    "s_table"
   ]
  },
  {
   "cell_type": "code",
   "execution_count": null,
   "metadata": {},
   "outputs": [],
   "source": []
  },
  {
   "cell_type": "code",
   "execution_count": null,
   "metadata": {},
   "outputs": [],
   "source": []
  },
  {
   "cell_type": "code",
   "execution_count": null,
   "metadata": {},
   "outputs": [],
   "source": []
  },
  {
   "cell_type": "code",
   "execution_count": null,
   "metadata": {},
   "outputs": [],
   "source": []
  }
 ],
 "metadata": {
  "kernelspec": {
   "display_name": "Python 3",
   "language": "python",
   "name": "python3"
  },
  "language_info": {
   "codemirror_mode": {
    "name": "ipython",
    "version": 3
   },
   "file_extension": ".py",
   "mimetype": "text/x-python",
   "name": "python",
   "nbconvert_exporter": "python",
   "pygments_lexer": "ipython3",
   "version": "3.6.1"
  }
 },
 "nbformat": 4,
 "nbformat_minor": 2
}
